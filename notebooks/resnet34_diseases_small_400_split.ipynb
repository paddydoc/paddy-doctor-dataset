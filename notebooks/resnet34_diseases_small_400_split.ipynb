{
  "metadata": {
    "kernelspec": {
      "language": "python",
      "display_name": "Python 3",
      "name": "python3"
    },
    "language_info": {
      "name": "python",
      "version": "3.7.12",
      "mimetype": "text/x-python",
      "codemirror_mode": {
        "name": "ipython",
        "version": 3
      },
      "pygments_lexer": "ipython3",
      "nbconvert_exporter": "python",
      "file_extension": ".py"
    },
    "colab": {
      "provenance": [],
      "include_colab_link": true
    }
  },
  "nbformat_minor": 0,
  "nbformat": 4,
  "cells": [
    {
      "cell_type": "markdown",
      "metadata": {
        "id": "view-in-github",
        "colab_type": "text"
      },
      "source": [
        "<a href=\"https://colab.research.google.com/github/paddydoc/paddy-doctor-dataset/blob/main/notebooks/resnet34_diseases_small_400_split.ipynb\" target=\"_parent\"><img src=\"https://colab.research.google.com/assets/colab-badge.svg\" alt=\"Open In Colab\"/></a>"
      ]
    },
    {
      "cell_type": "markdown",
      "source": [
        "### Resnet34 with Fastai Paddy Doctor Dataset\n",
        "\n",
        "Acknowledgements: https://www.kaggle.com/code/fmussari/fast-resnet34-with-fastai"
      ],
      "metadata": {
        "id": "7WmJWWMaJo5Q"
      }
    },
    {
      "cell_type": "code",
      "source": [
        "import glob\n",
        "\n",
        "try: import fastkaggle\n",
        "except ModuleNotFoundError:\n",
        "    !pip install -Uq fastkaggle\n",
        "\n",
        "from fastkaggle import *\n",
        "from fastai.vision.all import *\n",
        "set_seed(42)\n",
        "\n",
        "#/kaggle/input/paddy-doctor-diseases-small-400-split\n",
        "\n",
        "competition = 'paddy-doctor-diseases-small-400-split'\n",
        "path = setup_comp(competition, install='fastai \"timm>=0.6.2.dev0\"')\n",
        "print(path)\n",
        "\n",
        "# train images\n",
        "train_path = path / 'train'\n",
        "train_files = get_image_files(train_path)\n",
        "\n",
        "# test images\n",
        "test_path = path/'test'\n",
        "test_files = get_image_files(test_path).sorted()\n",
        "\n",
        "# train labels\n",
        "train_df = pd.read_csv(path / 'metadata-train.csv')\n",
        "print(train_df.shape)\n",
        "train_df.label.value_counts()"
      ],
      "metadata": {
        "_uuid": "8f2839f25d086af736a60e9eeb907d3b93b6e0e5",
        "_cell_guid": "b1076dfc-b9ad-4769-8c92-a6c4dae69d19",
        "execution": {
          "iopub.status.busy": "2022-11-30T19:12:06.468007Z",
          "iopub.execute_input": "2022-11-30T19:12:06.468694Z",
          "iopub.status.idle": "2022-11-30T19:12:32.844220Z",
          "shell.execute_reply.started": "2022-11-30T19:12:06.468599Z",
          "shell.execute_reply": "2022-11-30T19:12:32.843166Z"
        },
        "trusted": true,
        "id": "p0kBsTP_Jo5W",
        "outputId": "28b60ea6-3998-4ffe-9e12-73222294a5b6"
      },
      "execution_count": null,
      "outputs": [
        {
          "name": "stdout",
          "text": "\u001b[33mWARNING: Running pip as the 'root' user can result in broken permissions and conflicting behaviour with the system package manager. It is recommended to use a virtual environment instead: https://pip.pypa.io/warnings/venv\u001b[0m\u001b[33m\n\u001b[0m../input/paddy-doctor-diseases-small-400-split\n(4160, 4)\n",
          "output_type": "stream"
        },
        {
          "execution_count": 1,
          "output_type": "execute_result",
          "data": {
            "text/plain": "bacterial_leaf_blight       320\nbacterial_leaf_streak       320\nbacterial_panicle_blight    320\nblack_stem_borer            320\nblast                       320\nbrown_spot                  320\ndowny_mildew                320\nhispa                       320\nleaf_roller                 320\nnormal                      320\ntungro                      320\nwhite_stem_borer            320\nyellow_stem_borer           320\nName: label, dtype: int64"
          },
          "metadata": {}
        }
      ]
    },
    {
      "cell_type": "markdown",
      "source": [
        "#### Dataloaders for fastai training"
      ],
      "metadata": {
        "id": "TAsqRH0IJo5a"
      }
    },
    {
      "cell_type": "code",
      "source": [
        "dblock = DataBlock(\n",
        "    blocks=(ImageBlock, CategoryBlock),\n",
        "    get_items=get_image_files,\n",
        "    get_y=parent_label,\n",
        "    splitter=RandomSplitter(0.2, seed=42),\n",
        "    item_tfms=Resize(480, method='squish'),\n",
        "    batch_tfms=aug_transforms(size=224, min_scale=0.75)\n",
        ")\n",
        "\n",
        "dls = dblock.dataloaders(train_path)"
      ],
      "metadata": {
        "execution": {
          "iopub.status.busy": "2022-11-30T19:12:32.846252Z",
          "iopub.execute_input": "2022-11-30T19:12:32.846907Z",
          "iopub.status.idle": "2022-11-30T19:12:39.722863Z",
          "shell.execute_reply.started": "2022-11-30T19:12:32.846870Z",
          "shell.execute_reply": "2022-11-30T19:12:39.721885Z"
        },
        "trusted": true,
        "id": "N0KdDBc7Jo5b"
      },
      "execution_count": null,
      "outputs": []
    },
    {
      "cell_type": "code",
      "source": [
        "dls = ImageDataLoaders.from_folder(\n",
        "    train_path, \n",
        "    valid_pct=0.2,\n",
        "    seed=42,\n",
        "    item_tfms=Resize(480, method='squish'),\n",
        "    batch_tfms=aug_transforms(size=224, min_scale=0.75)\n",
        ")"
      ],
      "metadata": {
        "execution": {
          "iopub.status.busy": "2022-11-30T19:12:39.724135Z",
          "iopub.execute_input": "2022-11-30T19:12:39.724512Z",
          "iopub.status.idle": "2022-11-30T19:12:40.048629Z",
          "shell.execute_reply.started": "2022-11-30T19:12:39.724476Z",
          "shell.execute_reply": "2022-11-30T19:12:40.047671Z"
        },
        "trusted": true,
        "id": "ssrycADdJo5c"
      },
      "execution_count": null,
      "outputs": []
    },
    {
      "cell_type": "markdown",
      "source": [
        "### Setlup a learner based on resnet34\n"
      ],
      "metadata": {
        "id": "jidSgTmjJo5c"
      }
    },
    {
      "cell_type": "code",
      "source": [
        "learn = vision_learner(dls, resnet34, metrics=error_rate).to_fp16()"
      ],
      "metadata": {
        "execution": {
          "iopub.status.busy": "2022-11-30T19:12:40.051073Z",
          "iopub.execute_input": "2022-11-30T19:12:40.051899Z",
          "iopub.status.idle": "2022-11-30T19:12:44.856553Z",
          "shell.execute_reply.started": "2022-11-30T19:12:40.051862Z",
          "shell.execute_reply": "2022-11-30T19:12:44.855582Z"
        },
        "trusted": true,
        "colab": {
          "referenced_widgets": [
            "930da8ff0ba74ba2a557e6cf30f10f95"
          ]
        },
        "id": "QVvdz28rJo5d",
        "outputId": "f2eaf4d8-7a9c-44f6-8b68-7b45e24ec04e"
      },
      "execution_count": null,
      "outputs": [
        {
          "name": "stderr",
          "text": "Downloading: \"https://download.pytorch.org/models/resnet34-b627a593.pth\" to /root/.cache/torch/hub/checkpoints/resnet34-b627a593.pth\n",
          "output_type": "stream"
        },
        {
          "output_type": "display_data",
          "data": {
            "text/plain": "  0%|          | 0.00/83.3M [00:00<?, ?B/s]",
            "application/vnd.jupyter.widget-view+json": {
              "version_major": 2,
              "version_minor": 0,
              "model_id": "930da8ff0ba74ba2a557e6cf30f10f95"
            }
          },
          "metadata": {}
        }
      ]
    },
    {
      "cell_type": "markdown",
      "source": [
        "### Fine-tune the resnet34 model\n",
        "\n"
      ],
      "metadata": {
        "id": "S0FJEPcdJo5e"
      }
    },
    {
      "cell_type": "code",
      "source": [
        "%%timeit\n",
        "learn.fine_tune(10, 0.005)"
      ],
      "metadata": {
        "execution": {
          "iopub.status.busy": "2022-11-30T19:12:44.858086Z",
          "iopub.execute_input": "2022-11-30T19:12:44.858462Z",
          "iopub.status.idle": "2022-11-30T19:59:28.679549Z",
          "shell.execute_reply.started": "2022-11-30T19:12:44.858422Z",
          "shell.execute_reply": "2022-11-30T19:59:28.677999Z"
        },
        "trusted": true,
        "id": "dhHj4WRQJo5e",
        "outputId": "20e07cbc-4655-4602-fc06-692bf372e2af"
      },
      "execution_count": null,
      "outputs": [
        {
          "output_type": "display_data",
          "data": {
            "text/plain": "<IPython.core.display.HTML object>",
            "text/html": "\n<style>\n    /* Turns off some styling */\n    progress {\n        /* gets rid of default border in Firefox and Opera. */\n        border: none;\n        /* Needs to be in here for Safari polyfill so background images work as expected. */\n        background-size: auto;\n    }\n    progress:not([value]), progress:not([value])::-webkit-progress-bar {\n        background: repeating-linear-gradient(45deg, #7e7e7e, #7e7e7e 10px, #5c5c5c 10px, #5c5c5c 20px);\n    }\n    .progress-bar-interrupted, .progress-bar-interrupted::-webkit-progress-bar {\n        background: #F44336;\n    }\n</style>\n"
          },
          "metadata": {}
        },
        {
          "output_type": "display_data",
          "data": {
            "text/plain": "<IPython.core.display.HTML object>",
            "text/html": "<table border=\"1\" class=\"dataframe\">\n  <thead>\n    <tr style=\"text-align: left;\">\n      <th>epoch</th>\n      <th>train_loss</th>\n      <th>valid_loss</th>\n      <th>error_rate</th>\n      <th>time</th>\n    </tr>\n  </thead>\n  <tbody>\n    <tr>\n      <td>0</td>\n      <td>2.685138</td>\n      <td>1.609765</td>\n      <td>0.478365</td>\n      <td>00:42</td>\n    </tr>\n  </tbody>\n</table>"
          },
          "metadata": {}
        },
        {
          "output_type": "display_data",
          "data": {
            "text/plain": "<IPython.core.display.HTML object>",
            "text/html": "\n<style>\n    /* Turns off some styling */\n    progress {\n        /* gets rid of default border in Firefox and Opera. */\n        border: none;\n        /* Needs to be in here for Safari polyfill so background images work as expected. */\n        background-size: auto;\n    }\n    progress:not([value]), progress:not([value])::-webkit-progress-bar {\n        background: repeating-linear-gradient(45deg, #7e7e7e, #7e7e7e 10px, #5c5c5c 10px, #5c5c5c 20px);\n    }\n    .progress-bar-interrupted, .progress-bar-interrupted::-webkit-progress-bar {\n        background: #F44336;\n    }\n</style>\n"
          },
          "metadata": {}
        },
        {
          "output_type": "display_data",
          "data": {
            "text/plain": "<IPython.core.display.HTML object>",
            "text/html": "<table border=\"1\" class=\"dataframe\">\n  <thead>\n    <tr style=\"text-align: left;\">\n      <th>epoch</th>\n      <th>train_loss</th>\n      <th>valid_loss</th>\n      <th>error_rate</th>\n      <th>time</th>\n    </tr>\n  </thead>\n  <tbody>\n    <tr>\n      <td>0</td>\n      <td>1.481797</td>\n      <td>0.985706</td>\n      <td>0.293269</td>\n      <td>00:31</td>\n    </tr>\n    <tr>\n      <td>1</td>\n      <td>1.041613</td>\n      <td>0.800470</td>\n      <td>0.241587</td>\n      <td>00:32</td>\n    </tr>\n    <tr>\n      <td>2</td>\n      <td>0.830209</td>\n      <td>0.685676</td>\n      <td>0.206731</td>\n      <td>00:32</td>\n    </tr>\n    <tr>\n      <td>3</td>\n      <td>0.611233</td>\n      <td>0.603976</td>\n      <td>0.168269</td>\n      <td>00:32</td>\n    </tr>\n    <tr>\n      <td>4</td>\n      <td>0.466132</td>\n      <td>0.603266</td>\n      <td>0.167067</td>\n      <td>00:32</td>\n    </tr>\n    <tr>\n      <td>5</td>\n      <td>0.336607</td>\n      <td>0.512162</td>\n      <td>0.140625</td>\n      <td>00:31</td>\n    </tr>\n    <tr>\n      <td>6</td>\n      <td>0.228107</td>\n      <td>0.455862</td>\n      <td>0.109375</td>\n      <td>00:32</td>\n    </tr>\n    <tr>\n      <td>7</td>\n      <td>0.146138</td>\n      <td>0.415022</td>\n      <td>0.104567</td>\n      <td>00:32</td>\n    </tr>\n    <tr>\n      <td>8</td>\n      <td>0.091947</td>\n      <td>0.382457</td>\n      <td>0.090144</td>\n      <td>00:31</td>\n    </tr>\n    <tr>\n      <td>9</td>\n      <td>0.069495</td>\n      <td>0.383046</td>\n      <td>0.093750</td>\n      <td>00:32</td>\n    </tr>\n  </tbody>\n</table>"
          },
          "metadata": {}
        },
        {
          "output_type": "display_data",
          "data": {
            "text/plain": "<IPython.core.display.HTML object>",
            "text/html": "\n<style>\n    /* Turns off some styling */\n    progress {\n        /* gets rid of default border in Firefox and Opera. */\n        border: none;\n        /* Needs to be in here for Safari polyfill so background images work as expected. */\n        background-size: auto;\n    }\n    progress:not([value]), progress:not([value])::-webkit-progress-bar {\n        background: repeating-linear-gradient(45deg, #7e7e7e, #7e7e7e 10px, #5c5c5c 10px, #5c5c5c 20px);\n    }\n    .progress-bar-interrupted, .progress-bar-interrupted::-webkit-progress-bar {\n        background: #F44336;\n    }\n</style>\n"
          },
          "metadata": {}
        },
        {
          "output_type": "display_data",
          "data": {
            "text/plain": "<IPython.core.display.HTML object>",
            "text/html": "<table border=\"1\" class=\"dataframe\">\n  <thead>\n    <tr style=\"text-align: left;\">\n      <th>epoch</th>\n      <th>train_loss</th>\n      <th>valid_loss</th>\n      <th>error_rate</th>\n      <th>time</th>\n    </tr>\n  </thead>\n  <tbody>\n    <tr>\n      <td>0</td>\n      <td>0.079502</td>\n      <td>0.519643</td>\n      <td>0.108173</td>\n      <td>00:30</td>\n    </tr>\n  </tbody>\n</table>"
          },
          "metadata": {}
        },
        {
          "output_type": "display_data",
          "data": {
            "text/plain": "<IPython.core.display.HTML object>",
            "text/html": "\n<style>\n    /* Turns off some styling */\n    progress {\n        /* gets rid of default border in Firefox and Opera. */\n        border: none;\n        /* Needs to be in here for Safari polyfill so background images work as expected. */\n        background-size: auto;\n    }\n    progress:not([value]), progress:not([value])::-webkit-progress-bar {\n        background: repeating-linear-gradient(45deg, #7e7e7e, #7e7e7e 10px, #5c5c5c 10px, #5c5c5c 20px);\n    }\n    .progress-bar-interrupted, .progress-bar-interrupted::-webkit-progress-bar {\n        background: #F44336;\n    }\n</style>\n"
          },
          "metadata": {}
        },
        {
          "output_type": "display_data",
          "data": {
            "text/plain": "<IPython.core.display.HTML object>",
            "text/html": "<table border=\"1\" class=\"dataframe\">\n  <thead>\n    <tr style=\"text-align: left;\">\n      <th>epoch</th>\n      <th>train_loss</th>\n      <th>valid_loss</th>\n      <th>error_rate</th>\n      <th>time</th>\n    </tr>\n  </thead>\n  <tbody>\n    <tr>\n      <td>0</td>\n      <td>0.127686</td>\n      <td>0.519507</td>\n      <td>0.110577</td>\n      <td>00:32</td>\n    </tr>\n    <tr>\n      <td>1</td>\n      <td>0.162183</td>\n      <td>0.637025</td>\n      <td>0.144231</td>\n      <td>00:31</td>\n    </tr>\n    <tr>\n      <td>2</td>\n      <td>0.352799</td>\n      <td>1.043971</td>\n      <td>0.230769</td>\n      <td>00:31</td>\n    </tr>\n    <tr>\n      <td>3</td>\n      <td>0.359777</td>\n      <td>0.539406</td>\n      <td>0.153846</td>\n      <td>00:32</td>\n    </tr>\n    <tr>\n      <td>4</td>\n      <td>0.304639</td>\n      <td>0.784951</td>\n      <td>0.173077</td>\n      <td>00:32</td>\n    </tr>\n    <tr>\n      <td>5</td>\n      <td>0.230729</td>\n      <td>0.517380</td>\n      <td>0.123798</td>\n      <td>00:32</td>\n    </tr>\n    <tr>\n      <td>6</td>\n      <td>0.148267</td>\n      <td>0.425867</td>\n      <td>0.096154</td>\n      <td>00:32</td>\n    </tr>\n    <tr>\n      <td>7</td>\n      <td>0.096157</td>\n      <td>0.405006</td>\n      <td>0.081731</td>\n      <td>00:32</td>\n    </tr>\n    <tr>\n      <td>8</td>\n      <td>0.059348</td>\n      <td>0.394569</td>\n      <td>0.080529</td>\n      <td>00:31</td>\n    </tr>\n    <tr>\n      <td>9</td>\n      <td>0.044609</td>\n      <td>0.393243</td>\n      <td>0.082933</td>\n      <td>00:31</td>\n    </tr>\n  </tbody>\n</table>"
          },
          "metadata": {}
        },
        {
          "output_type": "display_data",
          "data": {
            "text/plain": "<IPython.core.display.HTML object>",
            "text/html": "\n<style>\n    /* Turns off some styling */\n    progress {\n        /* gets rid of default border in Firefox and Opera. */\n        border: none;\n        /* Needs to be in here for Safari polyfill so background images work as expected. */\n        background-size: auto;\n    }\n    progress:not([value]), progress:not([value])::-webkit-progress-bar {\n        background: repeating-linear-gradient(45deg, #7e7e7e, #7e7e7e 10px, #5c5c5c 10px, #5c5c5c 20px);\n    }\n    .progress-bar-interrupted, .progress-bar-interrupted::-webkit-progress-bar {\n        background: #F44336;\n    }\n</style>\n"
          },
          "metadata": {}
        },
        {
          "output_type": "display_data",
          "data": {
            "text/plain": "<IPython.core.display.HTML object>",
            "text/html": "<table border=\"1\" class=\"dataframe\">\n  <thead>\n    <tr style=\"text-align: left;\">\n      <th>epoch</th>\n      <th>train_loss</th>\n      <th>valid_loss</th>\n      <th>error_rate</th>\n      <th>time</th>\n    </tr>\n  </thead>\n  <tbody>\n    <tr>\n      <td>0</td>\n      <td>0.050728</td>\n      <td>0.474133</td>\n      <td>0.088942</td>\n      <td>00:31</td>\n    </tr>\n  </tbody>\n</table>"
          },
          "metadata": {}
        },
        {
          "output_type": "display_data",
          "data": {
            "text/plain": "<IPython.core.display.HTML object>",
            "text/html": "\n<style>\n    /* Turns off some styling */\n    progress {\n        /* gets rid of default border in Firefox and Opera. */\n        border: none;\n        /* Needs to be in here for Safari polyfill so background images work as expected. */\n        background-size: auto;\n    }\n    progress:not([value]), progress:not([value])::-webkit-progress-bar {\n        background: repeating-linear-gradient(45deg, #7e7e7e, #7e7e7e 10px, #5c5c5c 10px, #5c5c5c 20px);\n    }\n    .progress-bar-interrupted, .progress-bar-interrupted::-webkit-progress-bar {\n        background: #F44336;\n    }\n</style>\n"
          },
          "metadata": {}
        },
        {
          "output_type": "display_data",
          "data": {
            "text/plain": "<IPython.core.display.HTML object>",
            "text/html": "<table border=\"1\" class=\"dataframe\">\n  <thead>\n    <tr style=\"text-align: left;\">\n      <th>epoch</th>\n      <th>train_loss</th>\n      <th>valid_loss</th>\n      <th>error_rate</th>\n      <th>time</th>\n    </tr>\n  </thead>\n  <tbody>\n    <tr>\n      <td>0</td>\n      <td>0.074610</td>\n      <td>0.531415</td>\n      <td>0.103365</td>\n      <td>00:31</td>\n    </tr>\n    <tr>\n      <td>1</td>\n      <td>0.112039</td>\n      <td>0.651880</td>\n      <td>0.128606</td>\n      <td>00:31</td>\n    </tr>\n    <tr>\n      <td>2</td>\n      <td>0.269197</td>\n      <td>0.974857</td>\n      <td>0.186298</td>\n      <td>00:31</td>\n    </tr>\n    <tr>\n      <td>3</td>\n      <td>0.252217</td>\n      <td>0.557563</td>\n      <td>0.131010</td>\n      <td>00:31</td>\n    </tr>\n    <tr>\n      <td>4</td>\n      <td>0.189490</td>\n      <td>0.544833</td>\n      <td>0.110577</td>\n      <td>00:32</td>\n    </tr>\n    <tr>\n      <td>5</td>\n      <td>0.145393</td>\n      <td>0.456688</td>\n      <td>0.108173</td>\n      <td>00:31</td>\n    </tr>\n    <tr>\n      <td>6</td>\n      <td>0.103357</td>\n      <td>0.443769</td>\n      <td>0.088942</td>\n      <td>00:31</td>\n    </tr>\n    <tr>\n      <td>7</td>\n      <td>0.065258</td>\n      <td>0.417442</td>\n      <td>0.081731</td>\n      <td>00:31</td>\n    </tr>\n    <tr>\n      <td>8</td>\n      <td>0.042374</td>\n      <td>0.382771</td>\n      <td>0.076923</td>\n      <td>00:31</td>\n    </tr>\n    <tr>\n      <td>9</td>\n      <td>0.030760</td>\n      <td>0.386735</td>\n      <td>0.076923</td>\n      <td>00:31</td>\n    </tr>\n  </tbody>\n</table>"
          },
          "metadata": {}
        },
        {
          "output_type": "display_data",
          "data": {
            "text/plain": "<IPython.core.display.HTML object>",
            "text/html": "\n<style>\n    /* Turns off some styling */\n    progress {\n        /* gets rid of default border in Firefox and Opera. */\n        border: none;\n        /* Needs to be in here for Safari polyfill so background images work as expected. */\n        background-size: auto;\n    }\n    progress:not([value]), progress:not([value])::-webkit-progress-bar {\n        background: repeating-linear-gradient(45deg, #7e7e7e, #7e7e7e 10px, #5c5c5c 10px, #5c5c5c 20px);\n    }\n    .progress-bar-interrupted, .progress-bar-interrupted::-webkit-progress-bar {\n        background: #F44336;\n    }\n</style>\n"
          },
          "metadata": {}
        },
        {
          "output_type": "display_data",
          "data": {
            "text/plain": "<IPython.core.display.HTML object>",
            "text/html": "<table border=\"1\" class=\"dataframe\">\n  <thead>\n    <tr style=\"text-align: left;\">\n      <th>epoch</th>\n      <th>train_loss</th>\n      <th>valid_loss</th>\n      <th>error_rate</th>\n      <th>time</th>\n    </tr>\n  </thead>\n  <tbody>\n    <tr>\n      <td>0</td>\n      <td>0.030354</td>\n      <td>0.440168</td>\n      <td>0.081731</td>\n      <td>00:30</td>\n    </tr>\n  </tbody>\n</table>"
          },
          "metadata": {}
        },
        {
          "output_type": "display_data",
          "data": {
            "text/plain": "<IPython.core.display.HTML object>",
            "text/html": "\n<style>\n    /* Turns off some styling */\n    progress {\n        /* gets rid of default border in Firefox and Opera. */\n        border: none;\n        /* Needs to be in here for Safari polyfill so background images work as expected. */\n        background-size: auto;\n    }\n    progress:not([value]), progress:not([value])::-webkit-progress-bar {\n        background: repeating-linear-gradient(45deg, #7e7e7e, #7e7e7e 10px, #5c5c5c 10px, #5c5c5c 20px);\n    }\n    .progress-bar-interrupted, .progress-bar-interrupted::-webkit-progress-bar {\n        background: #F44336;\n    }\n</style>\n"
          },
          "metadata": {}
        },
        {
          "output_type": "display_data",
          "data": {
            "text/plain": "<IPython.core.display.HTML object>",
            "text/html": "<table border=\"1\" class=\"dataframe\">\n  <thead>\n    <tr style=\"text-align: left;\">\n      <th>epoch</th>\n      <th>train_loss</th>\n      <th>valid_loss</th>\n      <th>error_rate</th>\n      <th>time</th>\n    </tr>\n  </thead>\n  <tbody>\n    <tr>\n      <td>0</td>\n      <td>0.038580</td>\n      <td>0.485077</td>\n      <td>0.097356</td>\n      <td>00:31</td>\n    </tr>\n    <tr>\n      <td>1</td>\n      <td>0.106714</td>\n      <td>0.809986</td>\n      <td>0.144231</td>\n      <td>00:31</td>\n    </tr>\n    <tr>\n      <td>2</td>\n      <td>0.165766</td>\n      <td>0.721741</td>\n      <td>0.158654</td>\n      <td>00:31</td>\n    </tr>\n    <tr>\n      <td>3</td>\n      <td>0.176224</td>\n      <td>0.804414</td>\n      <td>0.138221</td>\n      <td>00:31</td>\n    </tr>\n    <tr>\n      <td>4</td>\n      <td>0.162878</td>\n      <td>0.581125</td>\n      <td>0.131010</td>\n      <td>00:31</td>\n    </tr>\n    <tr>\n      <td>5</td>\n      <td>0.114861</td>\n      <td>0.554797</td>\n      <td>0.104567</td>\n      <td>00:31</td>\n    </tr>\n    <tr>\n      <td>6</td>\n      <td>0.089393</td>\n      <td>0.452594</td>\n      <td>0.081731</td>\n      <td>00:31</td>\n    </tr>\n    <tr>\n      <td>7</td>\n      <td>0.055968</td>\n      <td>0.426757</td>\n      <td>0.087740</td>\n      <td>00:31</td>\n    </tr>\n    <tr>\n      <td>8</td>\n      <td>0.036621</td>\n      <td>0.419077</td>\n      <td>0.085337</td>\n      <td>00:31</td>\n    </tr>\n    <tr>\n      <td>9</td>\n      <td>0.030368</td>\n      <td>0.414403</td>\n      <td>0.080529</td>\n      <td>00:31</td>\n    </tr>\n  </tbody>\n</table>"
          },
          "metadata": {}
        },
        {
          "output_type": "display_data",
          "data": {
            "text/plain": "<IPython.core.display.HTML object>",
            "text/html": "\n<style>\n    /* Turns off some styling */\n    progress {\n        /* gets rid of default border in Firefox and Opera. */\n        border: none;\n        /* Needs to be in here for Safari polyfill so background images work as expected. */\n        background-size: auto;\n    }\n    progress:not([value]), progress:not([value])::-webkit-progress-bar {\n        background: repeating-linear-gradient(45deg, #7e7e7e, #7e7e7e 10px, #5c5c5c 10px, #5c5c5c 20px);\n    }\n    .progress-bar-interrupted, .progress-bar-interrupted::-webkit-progress-bar {\n        background: #F44336;\n    }\n</style>\n"
          },
          "metadata": {}
        },
        {
          "output_type": "display_data",
          "data": {
            "text/plain": "<IPython.core.display.HTML object>",
            "text/html": "<table border=\"1\" class=\"dataframe\">\n  <thead>\n    <tr style=\"text-align: left;\">\n      <th>epoch</th>\n      <th>train_loss</th>\n      <th>valid_loss</th>\n      <th>error_rate</th>\n      <th>time</th>\n    </tr>\n  </thead>\n  <tbody>\n    <tr>\n      <td>0</td>\n      <td>0.029637</td>\n      <td>0.450125</td>\n      <td>0.079327</td>\n      <td>00:29</td>\n    </tr>\n  </tbody>\n</table>"
          },
          "metadata": {}
        },
        {
          "output_type": "display_data",
          "data": {
            "text/plain": "<IPython.core.display.HTML object>",
            "text/html": "\n<style>\n    /* Turns off some styling */\n    progress {\n        /* gets rid of default border in Firefox and Opera. */\n        border: none;\n        /* Needs to be in here for Safari polyfill so background images work as expected. */\n        background-size: auto;\n    }\n    progress:not([value]), progress:not([value])::-webkit-progress-bar {\n        background: repeating-linear-gradient(45deg, #7e7e7e, #7e7e7e 10px, #5c5c5c 10px, #5c5c5c 20px);\n    }\n    .progress-bar-interrupted, .progress-bar-interrupted::-webkit-progress-bar {\n        background: #F44336;\n    }\n</style>\n"
          },
          "metadata": {}
        },
        {
          "output_type": "display_data",
          "data": {
            "text/plain": "<IPython.core.display.HTML object>",
            "text/html": "<table border=\"1\" class=\"dataframe\">\n  <thead>\n    <tr style=\"text-align: left;\">\n      <th>epoch</th>\n      <th>train_loss</th>\n      <th>valid_loss</th>\n      <th>error_rate</th>\n      <th>time</th>\n    </tr>\n  </thead>\n  <tbody>\n    <tr>\n      <td>0</td>\n      <td>0.037197</td>\n      <td>0.557039</td>\n      <td>0.087740</td>\n      <td>00:31</td>\n    </tr>\n    <tr>\n      <td>1</td>\n      <td>0.062891</td>\n      <td>0.614685</td>\n      <td>0.104567</td>\n      <td>00:33</td>\n    </tr>\n    <tr>\n      <td>2</td>\n      <td>0.157832</td>\n      <td>0.772532</td>\n      <td>0.147837</td>\n      <td>00:33</td>\n    </tr>\n    <tr>\n      <td>3</td>\n      <td>0.174732</td>\n      <td>0.644166</td>\n      <td>0.122596</td>\n      <td>00:31</td>\n    </tr>\n    <tr>\n      <td>4</td>\n      <td>0.138204</td>\n      <td>0.476754</td>\n      <td>0.104567</td>\n      <td>00:31</td>\n    </tr>\n    <tr>\n      <td>5</td>\n      <td>0.090523</td>\n      <td>0.510718</td>\n      <td>0.100962</td>\n      <td>00:31</td>\n    </tr>\n    <tr>\n      <td>6</td>\n      <td>0.060011</td>\n      <td>0.448467</td>\n      <td>0.085337</td>\n      <td>00:31</td>\n    </tr>\n    <tr>\n      <td>7</td>\n      <td>0.039874</td>\n      <td>0.444031</td>\n      <td>0.082933</td>\n      <td>00:37</td>\n    </tr>\n    <tr>\n      <td>8</td>\n      <td>0.030889</td>\n      <td>0.442318</td>\n      <td>0.084135</td>\n      <td>00:31</td>\n    </tr>\n    <tr>\n      <td>9</td>\n      <td>0.025354</td>\n      <td>0.438998</td>\n      <td>0.080529</td>\n      <td>00:31</td>\n    </tr>\n  </tbody>\n</table>"
          },
          "metadata": {}
        },
        {
          "output_type": "display_data",
          "data": {
            "text/plain": "<IPython.core.display.HTML object>",
            "text/html": "\n<style>\n    /* Turns off some styling */\n    progress {\n        /* gets rid of default border in Firefox and Opera. */\n        border: none;\n        /* Needs to be in here for Safari polyfill so background images work as expected. */\n        background-size: auto;\n    }\n    progress:not([value]), progress:not([value])::-webkit-progress-bar {\n        background: repeating-linear-gradient(45deg, #7e7e7e, #7e7e7e 10px, #5c5c5c 10px, #5c5c5c 20px);\n    }\n    .progress-bar-interrupted, .progress-bar-interrupted::-webkit-progress-bar {\n        background: #F44336;\n    }\n</style>\n"
          },
          "metadata": {}
        },
        {
          "output_type": "display_data",
          "data": {
            "text/plain": "<IPython.core.display.HTML object>",
            "text/html": "<table border=\"1\" class=\"dataframe\">\n  <thead>\n    <tr style=\"text-align: left;\">\n      <th>epoch</th>\n      <th>train_loss</th>\n      <th>valid_loss</th>\n      <th>error_rate</th>\n      <th>time</th>\n    </tr>\n  </thead>\n  <tbody>\n    <tr>\n      <td>0</td>\n      <td>0.017425</td>\n      <td>0.505596</td>\n      <td>0.086538</td>\n      <td>00:30</td>\n    </tr>\n  </tbody>\n</table>"
          },
          "metadata": {}
        },
        {
          "output_type": "display_data",
          "data": {
            "text/plain": "<IPython.core.display.HTML object>",
            "text/html": "\n<style>\n    /* Turns off some styling */\n    progress {\n        /* gets rid of default border in Firefox and Opera. */\n        border: none;\n        /* Needs to be in here for Safari polyfill so background images work as expected. */\n        background-size: auto;\n    }\n    progress:not([value]), progress:not([value])::-webkit-progress-bar {\n        background: repeating-linear-gradient(45deg, #7e7e7e, #7e7e7e 10px, #5c5c5c 10px, #5c5c5c 20px);\n    }\n    .progress-bar-interrupted, .progress-bar-interrupted::-webkit-progress-bar {\n        background: #F44336;\n    }\n</style>\n"
          },
          "metadata": {}
        },
        {
          "output_type": "display_data",
          "data": {
            "text/plain": "<IPython.core.display.HTML object>",
            "text/html": "<table border=\"1\" class=\"dataframe\">\n  <thead>\n    <tr style=\"text-align: left;\">\n      <th>epoch</th>\n      <th>train_loss</th>\n      <th>valid_loss</th>\n      <th>error_rate</th>\n      <th>time</th>\n    </tr>\n  </thead>\n  <tbody>\n    <tr>\n      <td>0</td>\n      <td>0.028836</td>\n      <td>0.527213</td>\n      <td>0.082933</td>\n      <td>00:31</td>\n    </tr>\n    <tr>\n      <td>1</td>\n      <td>0.060124</td>\n      <td>0.758973</td>\n      <td>0.121394</td>\n      <td>00:31</td>\n    </tr>\n    <tr>\n      <td>2</td>\n      <td>0.122681</td>\n      <td>0.856843</td>\n      <td>0.139423</td>\n      <td>00:31</td>\n    </tr>\n    <tr>\n      <td>3</td>\n      <td>0.163730</td>\n      <td>0.687561</td>\n      <td>0.122596</td>\n      <td>00:31</td>\n    </tr>\n    <tr>\n      <td>4</td>\n      <td>0.124776</td>\n      <td>0.417906</td>\n      <td>0.088942</td>\n      <td>00:31</td>\n    </tr>\n    <tr>\n      <td>5</td>\n      <td>0.078025</td>\n      <td>0.414046</td>\n      <td>0.088942</td>\n      <td>00:31</td>\n    </tr>\n    <tr>\n      <td>6</td>\n      <td>0.056118</td>\n      <td>0.444958</td>\n      <td>0.085337</td>\n      <td>00:31</td>\n    </tr>\n    <tr>\n      <td>7</td>\n      <td>0.034674</td>\n      <td>0.382846</td>\n      <td>0.073317</td>\n      <td>00:31</td>\n    </tr>\n    <tr>\n      <td>8</td>\n      <td>0.024714</td>\n      <td>0.370913</td>\n      <td>0.070913</td>\n      <td>00:31</td>\n    </tr>\n    <tr>\n      <td>9</td>\n      <td>0.020360</td>\n      <td>0.370193</td>\n      <td>0.068510</td>\n      <td>00:31</td>\n    </tr>\n  </tbody>\n</table>"
          },
          "metadata": {}
        },
        {
          "output_type": "display_data",
          "data": {
            "text/plain": "<IPython.core.display.HTML object>",
            "text/html": "\n<style>\n    /* Turns off some styling */\n    progress {\n        /* gets rid of default border in Firefox and Opera. */\n        border: none;\n        /* Needs to be in here for Safari polyfill so background images work as expected. */\n        background-size: auto;\n    }\n    progress:not([value]), progress:not([value])::-webkit-progress-bar {\n        background: repeating-linear-gradient(45deg, #7e7e7e, #7e7e7e 10px, #5c5c5c 10px, #5c5c5c 20px);\n    }\n    .progress-bar-interrupted, .progress-bar-interrupted::-webkit-progress-bar {\n        background: #F44336;\n    }\n</style>\n"
          },
          "metadata": {}
        },
        {
          "output_type": "display_data",
          "data": {
            "text/plain": "<IPython.core.display.HTML object>",
            "text/html": "<table border=\"1\" class=\"dataframe\">\n  <thead>\n    <tr style=\"text-align: left;\">\n      <th>epoch</th>\n      <th>train_loss</th>\n      <th>valid_loss</th>\n      <th>error_rate</th>\n      <th>time</th>\n    </tr>\n  </thead>\n  <tbody>\n    <tr>\n      <td>0</td>\n      <td>0.014320</td>\n      <td>0.440506</td>\n      <td>0.079327</td>\n      <td>00:31</td>\n    </tr>\n  </tbody>\n</table>"
          },
          "metadata": {}
        },
        {
          "output_type": "display_data",
          "data": {
            "text/plain": "<IPython.core.display.HTML object>",
            "text/html": "\n<style>\n    /* Turns off some styling */\n    progress {\n        /* gets rid of default border in Firefox and Opera. */\n        border: none;\n        /* Needs to be in here for Safari polyfill so background images work as expected. */\n        background-size: auto;\n    }\n    progress:not([value]), progress:not([value])::-webkit-progress-bar {\n        background: repeating-linear-gradient(45deg, #7e7e7e, #7e7e7e 10px, #5c5c5c 10px, #5c5c5c 20px);\n    }\n    .progress-bar-interrupted, .progress-bar-interrupted::-webkit-progress-bar {\n        background: #F44336;\n    }\n</style>\n"
          },
          "metadata": {}
        },
        {
          "output_type": "display_data",
          "data": {
            "text/plain": "<IPython.core.display.HTML object>",
            "text/html": "<table border=\"1\" class=\"dataframe\">\n  <thead>\n    <tr style=\"text-align: left;\">\n      <th>epoch</th>\n      <th>train_loss</th>\n      <th>valid_loss</th>\n      <th>error_rate</th>\n      <th>time</th>\n    </tr>\n  </thead>\n  <tbody>\n    <tr>\n      <td>0</td>\n      <td>0.022235</td>\n      <td>0.426536</td>\n      <td>0.079327</td>\n      <td>00:31</td>\n    </tr>\n    <tr>\n      <td>1</td>\n      <td>0.049135</td>\n      <td>0.551821</td>\n      <td>0.092548</td>\n      <td>00:31</td>\n    </tr>\n    <tr>\n      <td>2</td>\n      <td>0.121601</td>\n      <td>1.062763</td>\n      <td>0.177885</td>\n      <td>00:31</td>\n    </tr>\n    <tr>\n      <td>3</td>\n      <td>0.154135</td>\n      <td>0.735736</td>\n      <td>0.125000</td>\n      <td>00:31</td>\n    </tr>\n    <tr>\n      <td>4</td>\n      <td>0.108706</td>\n      <td>0.648858</td>\n      <td>0.109375</td>\n      <td>00:31</td>\n    </tr>\n    <tr>\n      <td>5</td>\n      <td>0.080207</td>\n      <td>0.506678</td>\n      <td>0.093750</td>\n      <td>00:31</td>\n    </tr>\n    <tr>\n      <td>6</td>\n      <td>0.049098</td>\n      <td>0.494330</td>\n      <td>0.086538</td>\n      <td>00:31</td>\n    </tr>\n    <tr>\n      <td>7</td>\n      <td>0.036124</td>\n      <td>0.417853</td>\n      <td>0.074519</td>\n      <td>00:31</td>\n    </tr>\n    <tr>\n      <td>8</td>\n      <td>0.025514</td>\n      <td>0.444466</td>\n      <td>0.079327</td>\n      <td>00:31</td>\n    </tr>\n    <tr>\n      <td>9</td>\n      <td>0.018760</td>\n      <td>0.432962</td>\n      <td>0.078125</td>\n      <td>00:31</td>\n    </tr>\n  </tbody>\n</table>"
          },
          "metadata": {}
        },
        {
          "output_type": "display_data",
          "data": {
            "text/plain": "<IPython.core.display.HTML object>",
            "text/html": "\n<style>\n    /* Turns off some styling */\n    progress {\n        /* gets rid of default border in Firefox and Opera. */\n        border: none;\n        /* Needs to be in here for Safari polyfill so background images work as expected. */\n        background-size: auto;\n    }\n    progress:not([value]), progress:not([value])::-webkit-progress-bar {\n        background: repeating-linear-gradient(45deg, #7e7e7e, #7e7e7e 10px, #5c5c5c 10px, #5c5c5c 20px);\n    }\n    .progress-bar-interrupted, .progress-bar-interrupted::-webkit-progress-bar {\n        background: #F44336;\n    }\n</style>\n"
          },
          "metadata": {}
        },
        {
          "output_type": "display_data",
          "data": {
            "text/plain": "<IPython.core.display.HTML object>",
            "text/html": "<table border=\"1\" class=\"dataframe\">\n  <thead>\n    <tr style=\"text-align: left;\">\n      <th>epoch</th>\n      <th>train_loss</th>\n      <th>valid_loss</th>\n      <th>error_rate</th>\n      <th>time</th>\n    </tr>\n  </thead>\n  <tbody>\n    <tr>\n      <td>0</td>\n      <td>0.017196</td>\n      <td>0.491807</td>\n      <td>0.085337</td>\n      <td>00:30</td>\n    </tr>\n  </tbody>\n</table>"
          },
          "metadata": {}
        },
        {
          "output_type": "display_data",
          "data": {
            "text/plain": "<IPython.core.display.HTML object>",
            "text/html": "\n<style>\n    /* Turns off some styling */\n    progress {\n        /* gets rid of default border in Firefox and Opera. */\n        border: none;\n        /* Needs to be in here for Safari polyfill so background images work as expected. */\n        background-size: auto;\n    }\n    progress:not([value]), progress:not([value])::-webkit-progress-bar {\n        background: repeating-linear-gradient(45deg, #7e7e7e, #7e7e7e 10px, #5c5c5c 10px, #5c5c5c 20px);\n    }\n    .progress-bar-interrupted, .progress-bar-interrupted::-webkit-progress-bar {\n        background: #F44336;\n    }\n</style>\n"
          },
          "metadata": {}
        },
        {
          "output_type": "display_data",
          "data": {
            "text/plain": "<IPython.core.display.HTML object>",
            "text/html": "<table border=\"1\" class=\"dataframe\">\n  <thead>\n    <tr style=\"text-align: left;\">\n      <th>epoch</th>\n      <th>train_loss</th>\n      <th>valid_loss</th>\n      <th>error_rate</th>\n      <th>time</th>\n    </tr>\n  </thead>\n  <tbody>\n    <tr>\n      <td>0</td>\n      <td>0.018183</td>\n      <td>0.479059</td>\n      <td>0.074519</td>\n      <td>00:31</td>\n    </tr>\n    <tr>\n      <td>1</td>\n      <td>0.038448</td>\n      <td>0.560046</td>\n      <td>0.082933</td>\n      <td>00:31</td>\n    </tr>\n    <tr>\n      <td>2</td>\n      <td>0.102390</td>\n      <td>0.782122</td>\n      <td>0.139423</td>\n      <td>00:31</td>\n    </tr>\n    <tr>\n      <td>3</td>\n      <td>0.140191</td>\n      <td>0.571300</td>\n      <td>0.106971</td>\n      <td>00:31</td>\n    </tr>\n    <tr>\n      <td>4</td>\n      <td>0.101346</td>\n      <td>0.550634</td>\n      <td>0.100962</td>\n      <td>00:31</td>\n    </tr>\n    <tr>\n      <td>5</td>\n      <td>0.072197</td>\n      <td>0.533455</td>\n      <td>0.084135</td>\n      <td>00:31</td>\n    </tr>\n    <tr>\n      <td>6</td>\n      <td>0.042208</td>\n      <td>0.488353</td>\n      <td>0.090144</td>\n      <td>00:31</td>\n    </tr>\n    <tr>\n      <td>7</td>\n      <td>0.029197</td>\n      <td>0.494310</td>\n      <td>0.081731</td>\n      <td>00:31</td>\n    </tr>\n    <tr>\n      <td>8</td>\n      <td>0.018756</td>\n      <td>0.494030</td>\n      <td>0.082933</td>\n      <td>00:31</td>\n    </tr>\n    <tr>\n      <td>9</td>\n      <td>0.014891</td>\n      <td>0.489686</td>\n      <td>0.086538</td>\n      <td>00:31</td>\n    </tr>\n  </tbody>\n</table>"
          },
          "metadata": {}
        },
        {
          "name": "stdout",
          "text": "5min 48s ± 3.39 s per loop (mean ± std. dev. of 7 runs, 1 loop each)\n",
          "output_type": "stream"
        }
      ]
    },
    {
      "cell_type": "markdown",
      "source": [
        "### Model predictions"
      ],
      "metadata": {
        "id": "OW7Bc5hBJo5f"
      }
    },
    {
      "cell_type": "code",
      "source": [
        "# Get predictions on validation set\n",
        "probs, target = learn.get_preds(dl=dls.valid)\n",
        "error_rate(probs, target)"
      ],
      "metadata": {
        "execution": {
          "iopub.status.busy": "2022-11-30T19:59:28.681568Z",
          "iopub.execute_input": "2022-11-30T19:59:28.681942Z",
          "iopub.status.idle": "2022-11-30T19:59:34.682132Z",
          "shell.execute_reply.started": "2022-11-30T19:59:28.681899Z",
          "shell.execute_reply": "2022-11-30T19:59:34.680796Z"
        },
        "trusted": true,
        "id": "2tMYIwZ0Jo5g",
        "outputId": "c3f3cb9e-cb71-4504-aac8-44e6ab6bc707"
      },
      "execution_count": null,
      "outputs": [
        {
          "output_type": "display_data",
          "data": {
            "text/plain": "<IPython.core.display.HTML object>",
            "text/html": "\n<style>\n    /* Turns off some styling */\n    progress {\n        /* gets rid of default border in Firefox and Opera. */\n        border: none;\n        /* Needs to be in here for Safari polyfill so background images work as expected. */\n        background-size: auto;\n    }\n    progress:not([value]), progress:not([value])::-webkit-progress-bar {\n        background: repeating-linear-gradient(45deg, #7e7e7e, #7e7e7e 10px, #5c5c5c 10px, #5c5c5c 20px);\n    }\n    .progress-bar-interrupted, .progress-bar-interrupted::-webkit-progress-bar {\n        background: #F44336;\n    }\n</style>\n"
          },
          "metadata": {}
        },
        {
          "output_type": "display_data",
          "data": {
            "text/plain": "<IPython.core.display.HTML object>",
            "text/html": ""
          },
          "metadata": {}
        },
        {
          "execution_count": 6,
          "output_type": "execute_result",
          "data": {
            "text/plain": "TensorBase(0.0865)"
          },
          "metadata": {}
        }
      ]
    },
    {
      "cell_type": "code",
      "source": [
        "# Get TTA predictions on validation set\n",
        "probs, target = learn.tta(dl=dls.valid)\n",
        "error_rate(probs, target)"
      ],
      "metadata": {
        "execution": {
          "iopub.status.busy": "2022-11-30T19:59:34.683995Z",
          "iopub.execute_input": "2022-11-30T19:59:34.686693Z",
          "iopub.status.idle": "2022-11-30T20:00:04.828826Z",
          "shell.execute_reply.started": "2022-11-30T19:59:34.686645Z",
          "shell.execute_reply": "2022-11-30T20:00:04.827818Z"
        },
        "trusted": true,
        "id": "ZpRZhnW4Jo5g",
        "outputId": "c6db1fc9-945c-47c5-cc56-6cd953e8ddf5"
      },
      "execution_count": null,
      "outputs": [
        {
          "output_type": "display_data",
          "data": {
            "text/plain": "<IPython.core.display.HTML object>",
            "text/html": "\n<style>\n    /* Turns off some styling */\n    progress {\n        /* gets rid of default border in Firefox and Opera. */\n        border: none;\n        /* Needs to be in here for Safari polyfill so background images work as expected. */\n        background-size: auto;\n    }\n    progress:not([value]), progress:not([value])::-webkit-progress-bar {\n        background: repeating-linear-gradient(45deg, #7e7e7e, #7e7e7e 10px, #5c5c5c 10px, #5c5c5c 20px);\n    }\n    .progress-bar-interrupted, .progress-bar-interrupted::-webkit-progress-bar {\n        background: #F44336;\n    }\n</style>\n"
          },
          "metadata": {}
        },
        {
          "output_type": "display_data",
          "data": {
            "text/plain": "<IPython.core.display.HTML object>",
            "text/html": "\n    <div>\n      <progress value='0' class='' max='10' style='width:300px; height:20px; vertical-align: middle;'></progress>\n      \n    </div>\n    \n"
          },
          "metadata": {}
        },
        {
          "output_type": "display_data",
          "data": {
            "text/plain": "<IPython.core.display.HTML object>",
            "text/html": "\n<style>\n    /* Turns off some styling */\n    progress {\n        /* gets rid of default border in Firefox and Opera. */\n        border: none;\n        /* Needs to be in here for Safari polyfill so background images work as expected. */\n        background-size: auto;\n    }\n    progress:not([value]), progress:not([value])::-webkit-progress-bar {\n        background: repeating-linear-gradient(45deg, #7e7e7e, #7e7e7e 10px, #5c5c5c 10px, #5c5c5c 20px);\n    }\n    .progress-bar-interrupted, .progress-bar-interrupted::-webkit-progress-bar {\n        background: #F44336;\n    }\n</style>\n"
          },
          "metadata": {}
        },
        {
          "output_type": "display_data",
          "data": {
            "text/plain": "<IPython.core.display.HTML object>",
            "text/html": ""
          },
          "metadata": {}
        },
        {
          "execution_count": 7,
          "output_type": "execute_result",
          "data": {
            "text/plain": "TensorBase(0.0757)"
          },
          "metadata": {}
        }
      ]
    },
    {
      "cell_type": "markdown",
      "source": [],
      "metadata": {
        "id": "2v6Qdx_4Jo5h"
      }
    },
    {
      "cell_type": "code",
      "source": [
        "# test images\n",
        "test_path = path/'test'\n",
        "test_files = get_image_files(test_path).sorted()\n",
        "test_classes = [f.parent.name for f in test_files]\n",
        "\n",
        "probs, _ = learn.tta(dl=dls.test_dl(test_files))\n",
        "preds = probs.argmax(dim=1)\n",
        "pred_classes = dls.vocab[preds]"
      ],
      "metadata": {
        "execution": {
          "iopub.status.busy": "2022-11-30T20:00:04.830770Z",
          "iopub.execute_input": "2022-11-30T20:00:04.831136Z",
          "iopub.status.idle": "2022-11-30T20:00:41.357989Z",
          "shell.execute_reply.started": "2022-11-30T20:00:04.831094Z",
          "shell.execute_reply": "2022-11-30T20:00:41.356984Z"
        },
        "trusted": true,
        "id": "Q3Z_I9eHJo5h",
        "outputId": "2f5aac42-13c9-45b9-f63f-19202c8de385"
      },
      "execution_count": null,
      "outputs": [
        {
          "output_type": "display_data",
          "data": {
            "text/plain": "<IPython.core.display.HTML object>",
            "text/html": "\n<style>\n    /* Turns off some styling */\n    progress {\n        /* gets rid of default border in Firefox and Opera. */\n        border: none;\n        /* Needs to be in here for Safari polyfill so background images work as expected. */\n        background-size: auto;\n    }\n    progress:not([value]), progress:not([value])::-webkit-progress-bar {\n        background: repeating-linear-gradient(45deg, #7e7e7e, #7e7e7e 10px, #5c5c5c 10px, #5c5c5c 20px);\n    }\n    .progress-bar-interrupted, .progress-bar-interrupted::-webkit-progress-bar {\n        background: #F44336;\n    }\n</style>\n"
          },
          "metadata": {}
        },
        {
          "output_type": "display_data",
          "data": {
            "text/plain": "<IPython.core.display.HTML object>",
            "text/html": "\n    <div>\n      <progress value='0' class='' max='10' style='width:300px; height:20px; vertical-align: middle;'></progress>\n      \n    </div>\n    \n"
          },
          "metadata": {}
        },
        {
          "output_type": "display_data",
          "data": {
            "text/plain": "<IPython.core.display.HTML object>",
            "text/html": "\n<style>\n    /* Turns off some styling */\n    progress {\n        /* gets rid of default border in Firefox and Opera. */\n        border: none;\n        /* Needs to be in here for Safari polyfill so background images work as expected. */\n        background-size: auto;\n    }\n    progress:not([value]), progress:not([value])::-webkit-progress-bar {\n        background: repeating-linear-gradient(45deg, #7e7e7e, #7e7e7e 10px, #5c5c5c 10px, #5c5c5c 20px);\n    }\n    .progress-bar-interrupted, .progress-bar-interrupted::-webkit-progress-bar {\n        background: #F44336;\n    }\n</style>\n"
          },
          "metadata": {}
        },
        {
          "output_type": "display_data",
          "data": {
            "text/plain": "<IPython.core.display.HTML object>",
            "text/html": ""
          },
          "metadata": {}
        }
      ]
    },
    {
      "cell_type": "markdown",
      "source": [
        "### Results"
      ],
      "metadata": {
        "id": "a1Op7mWLJo5i"
      }
    },
    {
      "cell_type": "code",
      "source": [
        "from sklearn.metrics import classification_report\n",
        "from sklearn.metrics import accuracy_score\n",
        "\n",
        "cls_report = classification_report(test_classes, pred_classes, \n",
        "                                   digits=5)\n",
        "print(cls_report)\n",
        "acc = accuracy_score(test_classes, pred_classes)"
      ],
      "metadata": {
        "execution": {
          "iopub.status.busy": "2022-11-30T20:00:41.359580Z",
          "iopub.execute_input": "2022-11-30T20:00:41.359958Z",
          "iopub.status.idle": "2022-11-30T20:00:41.388007Z",
          "shell.execute_reply.started": "2022-11-30T20:00:41.359918Z",
          "shell.execute_reply": "2022-11-30T20:00:41.387066Z"
        },
        "trusted": true,
        "id": "SiIrJy4jJo5i",
        "outputId": "c3483ac9-5855-41e4-bacd-5e61fe8e16cb"
      },
      "execution_count": null,
      "outputs": [
        {
          "name": "stdout",
          "text": "                          precision    recall  f1-score   support\n\n   bacterial_leaf_blight    0.92857   0.97500   0.95122        80\n   bacterial_leaf_streak    0.98750   0.98750   0.98750        80\nbacterial_panicle_blight    0.98765   1.00000   0.99379        80\n        black_stem_borer    0.98734   0.97500   0.98113        80\n                   blast    0.85897   0.83750   0.84810        80\n              brown_spot    0.96000   0.90000   0.92903        80\n            downy_mildew    0.89412   0.95000   0.92121        80\n                   hispa    0.91250   0.91250   0.91250        80\n             leaf_roller    0.98734   0.97500   0.98113        80\n                  normal    0.95122   0.97500   0.96296        80\n                  tungro    0.94737   0.90000   0.92308        80\n        white_stem_borer    0.92683   0.95000   0.93827        80\n       yellow_stem_borer    0.97468   0.96250   0.96855        80\n\n                accuracy                        0.94615      1040\n               macro avg    0.94647   0.94615   0.94604      1040\n            weighted avg    0.94647   0.94615   0.94604      1040\n\n",
          "output_type": "stream"
        }
      ]
    },
    {
      "cell_type": "code",
      "source": [
        "import seaborn as sns\n",
        "from sklearn.metrics import confusion_matrix\n",
        "\n",
        "def plot_heatmap(y_true, y_pred, class_names, ax, title):\n",
        "    cm = confusion_matrix(y_true, y_pred)\n",
        "    sns.heatmap(\n",
        "        cm, \n",
        "        annot=True, \n",
        "        square=True, \n",
        "        xticklabels=class_names, \n",
        "        yticklabels=class_names,\n",
        "        fmt='d', \n",
        "        cmap=plt.cm.Blues,\n",
        "        cbar=False,\n",
        "        ax=ax\n",
        "    )\n",
        "    #ax.set_title(title, fontsize=16)\n",
        "    ax.set_xticklabels(ax.get_xticklabels(), fontsize=12, rotation=45, ha=\"right\")\n",
        "    ax.set_yticklabels(ax.get_yticklabels(), fontsize=12)\n",
        "    ax.set_ylabel('True Label', fontsize=12)\n",
        "    ax.set_xlabel('Predicted Label', fontsize=12)\n",
        "\n",
        "fig, ax = plt.subplots(1, 1, figsize=(8, 6))\n",
        "\n",
        "class_names = dls.vocab\n",
        "plot_heatmap(test_classes, pred_classes, class_names, ax, title=\"Resnet34\")   \n",
        "\n",
        "\n",
        "#fig.suptitle(\"Confusion Matrix Model Comparison\", fontsize=12)\n",
        "#fig.tight_layout()\n",
        "#fig.subplots_adjust(top=1.25)\n",
        "plt.show()\n",
        "cm = confusion_matrix(test_classes, pred_classes)\n",
        "print(cm)"
      ],
      "metadata": {
        "execution": {
          "iopub.status.busy": "2022-11-30T20:00:41.391225Z",
          "iopub.execute_input": "2022-11-30T20:00:41.391571Z",
          "iopub.status.idle": "2022-11-30T20:00:42.207592Z",
          "shell.execute_reply.started": "2022-11-30T20:00:41.391543Z",
          "shell.execute_reply": "2022-11-30T20:00:42.206683Z"
        },
        "trusted": true,
        "id": "DVFNYY9jJo5j",
        "outputId": "c7531548-686e-4dff-c727-1a076c0905ec"
      },
      "execution_count": null,
      "outputs": [
        {
          "output_type": "display_data",
          "data": {
            "text/plain": "<Figure size 576x432 with 1 Axes>",
            "image/png": "[encoded data removed]"
          },
          "metadata": {
            "needs_background": "light"
          }
        },
        {
          "name": "stdout",
          "text": "[[78  0  0  0  0  0  0  2  0  0  0  0  0]\n [ 0 79  0  0  1  0  0  0  0  0  0  0  0]\n [ 0  0 80  0  0  0  0  0  0  0  0  0  0]\n [ 0  0  0 78  0  0  0  0  0  0  0  2  0]\n [ 2  0  0  0 67  1  6  2  1  1  0  0  0]\n [ 0  1  0  0  0 72  2  2  0  1  2  0  0]\n [ 0  0  0  0  3  1 76  0  0  0  0  0  0]\n [ 1  0  0  0  2  0  0 73  0  2  1  1  0]\n [ 0  0  0  0  1  0  0  0 78  0  1  0  0]\n [ 0  0  0  0  2  0  0  0  0 78  0  0  0]\n [ 3  0  0  0  2  1  1  1  0  0 72  0  0]\n [ 0  0  1  1  0  0  0  0  0  0  0 76  2]\n [ 0  0  0  0  0  0  0  0  0  0  0  3 77]]\n",
          "output_type": "stream"
        }
      ]
    },
    {
      "cell_type": "code",
      "source": [
        "res = pd.DataFrame({\"y_true\":test_classes,\n",
        "                      \"y_pred\":pred_classes})\n",
        "res.to_csv('result.csv', index=False)\n",
        "res"
      ],
      "metadata": {
        "execution": {
          "iopub.status.busy": "2022-11-30T20:00:42.209154Z",
          "iopub.execute_input": "2022-11-30T20:00:42.209911Z",
          "iopub.status.idle": "2022-11-30T20:00:42.230905Z",
          "shell.execute_reply.started": "2022-11-30T20:00:42.209874Z",
          "shell.execute_reply": "2022-11-30T20:00:42.229856Z"
        },
        "trusted": true,
        "id": "fSyJYk0eJo5k",
        "outputId": "a9a33e7e-0fcc-48c1-b811-7cc5441335f0"
      },
      "execution_count": null,
      "outputs": [
        {
          "execution_count": 11,
          "output_type": "execute_result",
          "data": {
            "text/plain": "                     y_true                 y_pred\n0     bacterial_leaf_blight  bacterial_leaf_blight\n1     bacterial_leaf_blight  bacterial_leaf_blight\n2     bacterial_leaf_blight  bacterial_leaf_blight\n3     bacterial_leaf_blight  bacterial_leaf_blight\n4     bacterial_leaf_blight  bacterial_leaf_blight\n...                     ...                    ...\n1035      yellow_stem_borer      yellow_stem_borer\n1036      yellow_stem_borer      yellow_stem_borer\n1037      yellow_stem_borer      yellow_stem_borer\n1038      yellow_stem_borer      yellow_stem_borer\n1039      yellow_stem_borer      yellow_stem_borer\n\n[1040 rows x 2 columns]",
            "text/html": "<div>\n<style scoped>\n    .dataframe tbody tr th:only-of-type {\n        vertical-align: middle;\n    }\n\n    .dataframe tbody tr th {\n        vertical-align: top;\n    }\n\n    .dataframe thead th {\n        text-align: right;\n    }\n</style>\n<table border=\"1\" class=\"dataframe\">\n  <thead>\n    <tr style=\"text-align: right;\">\n      <th></th>\n      <th>y_true</th>\n      <th>y_pred</th>\n    </tr>\n  </thead>\n  <tbody>\n    <tr>\n      <th>0</th>\n      <td>bacterial_leaf_blight</td>\n      <td>bacterial_leaf_blight</td>\n    </tr>\n    <tr>\n      <th>1</th>\n      <td>bacterial_leaf_blight</td>\n      <td>bacterial_leaf_blight</td>\n    </tr>\n    <tr>\n      <th>2</th>\n      <td>bacterial_leaf_blight</td>\n      <td>bacterial_leaf_blight</td>\n    </tr>\n    <tr>\n      <th>3</th>\n      <td>bacterial_leaf_blight</td>\n      <td>bacterial_leaf_blight</td>\n    </tr>\n    <tr>\n      <th>4</th>\n      <td>bacterial_leaf_blight</td>\n      <td>bacterial_leaf_blight</td>\n    </tr>\n    <tr>\n      <th>...</th>\n      <td>...</td>\n      <td>...</td>\n    </tr>\n    <tr>\n      <th>1035</th>\n      <td>yellow_stem_borer</td>\n      <td>yellow_stem_borer</td>\n    </tr>\n    <tr>\n      <th>1036</th>\n      <td>yellow_stem_borer</td>\n      <td>yellow_stem_borer</td>\n    </tr>\n    <tr>\n      <th>1037</th>\n      <td>yellow_stem_borer</td>\n      <td>yellow_stem_borer</td>\n    </tr>\n    <tr>\n      <th>1038</th>\n      <td>yellow_stem_borer</td>\n      <td>yellow_stem_borer</td>\n    </tr>\n    <tr>\n      <th>1039</th>\n      <td>yellow_stem_borer</td>\n      <td>yellow_stem_borer</td>\n    </tr>\n  </tbody>\n</table>\n<p>1040 rows × 2 columns</p>\n</div>"
          },
          "metadata": {}
        }
      ]
    }
  ]
}