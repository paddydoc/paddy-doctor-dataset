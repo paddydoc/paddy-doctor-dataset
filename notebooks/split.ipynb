{
 "cells": [
  {
   "cell_type": "markdown",
   "metadata": {},
   "source": [
    "## Split the final datset into train/test sets"
   ]
  },
  {
   "cell_type": "code",
   "execution_count": 104,
   "metadata": {
    "ExecuteTime": {
     "end_time": "2022-11-29T13:05:01.688040Z",
     "start_time": "2022-11-29T13:05:01.684039Z"
    }
   },
   "outputs": [],
   "source": [
    "import glob\n",
    "import os\n",
    "import shutil\n",
    "import random\n",
    "from pathlib import Path\n",
    "import pandas as pd\n",
    "import numpy as np\n",
    "from tqdm import tqdm\n",
    "\n",
    "from sklearn.model_selection import train_test_split\n",
    "\n",
    "SEED = 1234\n",
    "def set_seed(seed=SEED):\n",
    "    np.random.seed(seed) \n",
    "    random.seed(seed)\n",
    "set_seed()"
   ]
  },
  {
   "cell_type": "code",
   "execution_count": 105,
   "metadata": {
    "ExecuteTime": {
     "end_time": "2022-11-29T13:05:02.405947Z",
     "start_time": "2022-11-29T13:05:02.377978Z"
    }
   },
   "outputs": [
    {
     "name": "stdout",
     "output_type": "stream",
     "text": [
      "<class 'pandas.core.frame.DataFrame'>\n",
      "RangeIndex: 16225 entries, 0 to 16224\n",
      "Data columns (total 4 columns):\n",
      " #   Column    Non-Null Count  Dtype \n",
      "---  ------    --------------  ----- \n",
      " 0   image_id  16225 non-null  object\n",
      " 1   label     16225 non-null  object\n",
      " 2   variety   16225 non-null  object\n",
      " 3   age       16225 non-null  int64 \n",
      "dtypes: int64(1), object(3)\n",
      "memory usage: 507.2+ KB\n"
     ]
    }
   ],
   "source": [
    "final_dir = './diseases_final_small/'\n",
    "split_dir = './diseases_final_small_split_400/'\n",
    "# final_dir = './diseases_final_augmented_2k/'\n",
    "# split_dir = './diseases_final_augmented_2k_split/'\n",
    "\n",
    "metadata = pd.read_csv(os.path.join(final_dir, 'metadata.csv'))\n",
    "metadata.info()"
   ]
  },
  {
   "cell_type": "code",
   "execution_count": 106,
   "metadata": {
    "ExecuteTime": {
     "end_time": "2022-11-29T13:05:03.515977Z",
     "start_time": "2022-11-29T13:05:03.491986Z"
    }
   },
   "outputs": [
    {
     "data": {
      "text/plain": [
       "bacterial_leaf_blight       400\n",
       "bacterial_leaf_streak       400\n",
       "bacterial_panicle_blight    400\n",
       "black_stem_borer            400\n",
       "blast                       400\n",
       "brown_spot                  400\n",
       "downy_mildew                400\n",
       "hispa                       400\n",
       "leaf_roller                 400\n",
       "normal                      400\n",
       "tungro                      400\n",
       "white_stem_borer            400\n",
       "yellow_stem_borer           400\n",
       "Name: label, dtype: int64"
      ]
     },
     "execution_count": 106,
     "metadata": {},
     "output_type": "execute_result"
    }
   ],
   "source": [
    "metadata = metadata.groupby(['label']).apply(lambda x: x.sample(n=400, random_state=SEED)).reset_index(drop=True)\n",
    "metadata.label.value_counts()"
   ]
  },
  {
   "cell_type": "code",
   "execution_count": 107,
   "metadata": {
    "ExecuteTime": {
     "end_time": "2022-11-29T13:05:06.984837Z",
     "start_time": "2022-11-29T13:05:06.969837Z"
    }
   },
   "outputs": [
    {
     "data": {
      "text/html": [
       "<div>\n",
       "<style scoped>\n",
       "    .dataframe tbody tr th:only-of-type {\n",
       "        vertical-align: middle;\n",
       "    }\n",
       "\n",
       "    .dataframe tbody tr th {\n",
       "        vertical-align: top;\n",
       "    }\n",
       "\n",
       "    .dataframe thead th {\n",
       "        text-align: right;\n",
       "    }\n",
       "</style>\n",
       "<table border=\"1\" class=\"dataframe\">\n",
       "  <thead>\n",
       "    <tr style=\"text-align: right;\">\n",
       "      <th></th>\n",
       "      <th>image_id</th>\n",
       "      <th>label</th>\n",
       "      <th>variety</th>\n",
       "      <th>age</th>\n",
       "    </tr>\n",
       "  </thead>\n",
       "  <tbody>\n",
       "    <tr>\n",
       "      <th>0</th>\n",
       "      <td>PDD00301.jpg</td>\n",
       "      <td>bacterial_leaf_blight</td>\n",
       "      <td>45</td>\n",
       "      <td>55</td>\n",
       "    </tr>\n",
       "    <tr>\n",
       "      <th>1</th>\n",
       "      <td>PDD00262.jpg</td>\n",
       "      <td>bacterial_leaf_blight</td>\n",
       "      <td>45</td>\n",
       "      <td>72</td>\n",
       "    </tr>\n",
       "    <tr>\n",
       "      <th>2</th>\n",
       "      <td>PDD00157.jpg</td>\n",
       "      <td>bacterial_leaf_blight</td>\n",
       "      <td>45</td>\n",
       "      <td>55</td>\n",
       "    </tr>\n",
       "    <tr>\n",
       "      <th>3</th>\n",
       "      <td>PDD00570.jpg</td>\n",
       "      <td>bacterial_leaf_blight</td>\n",
       "      <td>45</td>\n",
       "      <td>55</td>\n",
       "    </tr>\n",
       "    <tr>\n",
       "      <th>4</th>\n",
       "      <td>PDD00451.jpg</td>\n",
       "      <td>bacterial_leaf_blight</td>\n",
       "      <td>45</td>\n",
       "      <td>65</td>\n",
       "    </tr>\n",
       "    <tr>\n",
       "      <th>...</th>\n",
       "      <td>...</td>\n",
       "      <td>...</td>\n",
       "      <td>...</td>\n",
       "      <td>...</td>\n",
       "    </tr>\n",
       "    <tr>\n",
       "      <th>5195</th>\n",
       "      <td>PDD15584.jpg</td>\n",
       "      <td>yellow_stem_borer</td>\n",
       "      <td>AndraPonni</td>\n",
       "      <td>65</td>\n",
       "    </tr>\n",
       "    <tr>\n",
       "      <th>5196</th>\n",
       "      <td>PDD15864.jpg</td>\n",
       "      <td>yellow_stem_borer</td>\n",
       "      <td>45</td>\n",
       "      <td>70</td>\n",
       "    </tr>\n",
       "    <tr>\n",
       "      <th>5197</th>\n",
       "      <td>PDD15884.jpg</td>\n",
       "      <td>yellow_stem_borer</td>\n",
       "      <td>45</td>\n",
       "      <td>70</td>\n",
       "    </tr>\n",
       "    <tr>\n",
       "      <th>5198</th>\n",
       "      <td>PDD15898.jpg</td>\n",
       "      <td>yellow_stem_borer</td>\n",
       "      <td>45</td>\n",
       "      <td>70</td>\n",
       "    </tr>\n",
       "    <tr>\n",
       "      <th>5199</th>\n",
       "      <td>PDD15936.jpg</td>\n",
       "      <td>yellow_stem_borer</td>\n",
       "      <td>Zonal</td>\n",
       "      <td>70</td>\n",
       "    </tr>\n",
       "  </tbody>\n",
       "</table>\n",
       "<p>5200 rows × 4 columns</p>\n",
       "</div>"
      ],
      "text/plain": [
       "          image_id                  label     variety  age\n",
       "0     PDD00301.jpg  bacterial_leaf_blight          45   55\n",
       "1     PDD00262.jpg  bacterial_leaf_blight          45   72\n",
       "2     PDD00157.jpg  bacterial_leaf_blight          45   55\n",
       "3     PDD00570.jpg  bacterial_leaf_blight          45   55\n",
       "4     PDD00451.jpg  bacterial_leaf_blight          45   65\n",
       "...            ...                    ...         ...  ...\n",
       "5195  PDD15584.jpg      yellow_stem_borer  AndraPonni   65\n",
       "5196  PDD15864.jpg      yellow_stem_borer          45   70\n",
       "5197  PDD15884.jpg      yellow_stem_borer          45   70\n",
       "5198  PDD15898.jpg      yellow_stem_borer          45   70\n",
       "5199  PDD15936.jpg      yellow_stem_borer       Zonal   70\n",
       "\n",
       "[5200 rows x 4 columns]"
      ]
     },
     "execution_count": 107,
     "metadata": {},
     "output_type": "execute_result"
    }
   ],
   "source": [
    "metadata"
   ]
  },
  {
   "cell_type": "code",
   "execution_count": 108,
   "metadata": {
    "ExecuteTime": {
     "end_time": "2022-11-29T13:05:19.449160Z",
     "start_time": "2022-11-29T13:05:19.405197Z"
    }
   },
   "outputs": [
    {
     "name": "stdout",
     "output_type": "stream",
     "text": [
      "(5200, 4) (4160, 4) (1040, 4)\n"
     ]
    }
   ],
   "source": [
    "## test_size= 0.2793 to get 10k samples in train\n",
    "train, test = train_test_split(metadata, random_state=SEED, test_size= 0.2,\n",
    "                               stratify = metadata[['label']])\n",
    "                               #stratify = metadata[['label', 'variety']])\n",
    "train = train.sort_values(by=['image_id', 'label'])\n",
    "test  = test.sort_values(by=['image_id', 'label'])\n",
    "print(metadata.shape, train.shape, test.shape)"
   ]
  },
  {
   "cell_type": "markdown",
   "metadata": {},
   "source": [
    "#### copy train images"
   ]
  },
  {
   "cell_type": "code",
   "execution_count": 109,
   "metadata": {
    "ExecuteTime": {
     "end_time": "2022-11-29T13:05:33.849533Z",
     "start_time": "2022-11-29T13:05:27.147502Z"
    }
   },
   "outputs": [
    {
     "name": "stderr",
     "output_type": "stream",
     "text": [
      "4160it [00:06, 622.01it/s]\n"
     ]
    }
   ],
   "source": [
    "for index, row in tqdm(train.iterrows()):\n",
    "    from_path = os.path.join(final_dir, row['label'], row['image_id'])\n",
    "    to_dir    = os.path.join(split_dir, 'train',  row['label'])\n",
    "    to_path   = os.path.join(to_dir, row['image_id'])\n",
    "    \n",
    "    if not os.path.exists(to_dir):\n",
    "        os.makedirs(to_dir)\n",
    "    shutil.copy(from_path, to_path)\n",
    "    #print(from_path, to_path, os.path.exists(from_path))"
   ]
  },
  {
   "cell_type": "markdown",
   "metadata": {
    "ExecuteTime": {
     "end_time": "2022-11-27T14:02:53.067043Z",
     "start_time": "2022-11-27T14:02:53.060076Z"
    }
   },
   "source": [
    "#### copy test images"
   ]
  },
  {
   "cell_type": "code",
   "execution_count": 110,
   "metadata": {
    "ExecuteTime": {
     "end_time": "2022-11-29T13:05:35.654487Z",
     "start_time": "2022-11-29T13:05:33.850535Z"
    }
   },
   "outputs": [
    {
     "name": "stderr",
     "output_type": "stream",
     "text": [
      "1040it [00:01, 581.34it/s]\n"
     ]
    }
   ],
   "source": [
    "for index, row in tqdm(test.iterrows()):\n",
    "    from_path = os.path.join(final_dir, row['label'], row['image_id'])\n",
    "    to_dir    = os.path.join(split_dir, 'test',  row['label'])\n",
    "    to_path   = os.path.join(to_dir, row['image_id'])\n",
    "    \n",
    "    if not os.path.exists(to_dir):\n",
    "        os.makedirs(to_dir)\n",
    "    shutil.copy(from_path, to_path)\n",
    "    #print(from_path, to_path, os.path.exists(from_path))"
   ]
  },
  {
   "cell_type": "markdown",
   "metadata": {},
   "source": [
    "#### save the metadata files"
   ]
  },
  {
   "cell_type": "code",
   "execution_count": 111,
   "metadata": {
    "ExecuteTime": {
     "end_time": "2022-11-29T13:05:38.679988Z",
     "start_time": "2022-11-29T13:05:38.617960Z"
    }
   },
   "outputs": [
    {
     "data": {
      "text/plain": [
       "train    4160\n",
       "test     1040\n",
       "Name: split, dtype: int64"
      ]
     },
     "execution_count": 111,
     "metadata": {},
     "output_type": "execute_result"
    }
   ],
   "source": [
    "train.to_csv(os.path.join(split_dir, 'metadata-train.csv'), index=False)\n",
    "test.to_csv(os.path.join(split_dir, 'metadata-test.csv'), index=False)\n",
    "\n",
    "#combined metadata\n",
    "train['split'] = 'train'\n",
    "test['split'] = 'test'\n",
    "metadata_split = pd.concat([train, test])\n",
    "metadata_split = metadata_split.sort_values(by=['image_id', 'label'])\n",
    "metadata_split.to_csv(os.path.join(split_dir, 'metadata.csv'), index=False)\n",
    "metadata_split.split.value_counts()"
   ]
  },
  {
   "cell_type": "code",
   "execution_count": 114,
   "metadata": {
    "ExecuteTime": {
     "end_time": "2022-11-29T18:03:49.639720Z",
     "start_time": "2022-11-29T18:03:49.619760Z"
    }
   },
   "outputs": [
    {
     "name": "stdout",
     "output_type": "stream",
     "text": [
      "diseases_final_small_split_400/\n",
      "├─metadata-test.csv\n",
      "├─metadata-train.csv\n",
      "├─metadata.csv\n",
      "├─paddy-doctor-diseases-small-400-split.zip\n",
      "├─test/\n",
      "│ └─13 folder(s), 0 file(s)\n",
      "└─train/\n",
      "  └─13 folder(s), 0 file(s)\n"
     ]
    }
   ],
   "source": [
    "#!pip install seedir\n",
    "#!pip install emoji\n",
    "#!pip install seedir[emoji]\n",
    "import emoji\n",
    "#https://github.com/earnestt1234/seedir\n",
    "import seedir as sd\n",
    "sd.seedir(split_dir, style='lines', itemlimit=13, depthlimit=1, beyond='content')\n",
    "#sd.seedir(split_dir, style='lines', itemlimit=15, depthlimit=2)"
   ]
  },
  {
   "cell_type": "code",
   "execution_count": 67,
   "metadata": {
    "ExecuteTime": {
     "end_time": "2022-11-29T08:31:35.400214Z",
     "start_time": "2022-11-29T08:31:35.323169Z"
    }
   },
   "outputs": [
    {
     "name": "stdout",
     "output_type": "stream",
     "text": [
      "diseases_final_small/\n",
      "├─bacterial_leaf_blight/\n",
      "│ ├─PDD00001.jpg\n",
      "│ ├─PDD00002.jpg\n",
      "│ ├─PDD00003.jpg\n",
      "│ ├─PDD00004.jpg\n",
      "│ ├─PDD00005.jpg\n",
      "│ ├─PDD00006.jpg\n",
      "│ ├─PDD00007.jpg\n",
      "│ ├─PDD00008.jpg\n",
      "│ ├─PDD00009.jpg\n",
      "│ ├─PDD00010.jpg\n",
      "│ ├─PDD00011.jpg\n",
      "│ ├─PDD00012.jpg\n",
      "│ └─PDD00013.jpg\n",
      "├─bacterial_leaf_streak/\n",
      "│ ├─PDD00649.jpg\n",
      "│ ├─PDD00650.jpg\n",
      "│ ├─PDD00651.jpg\n",
      "│ ├─PDD00652.jpg\n",
      "│ ├─PDD00653.jpg\n",
      "│ ├─PDD00654.jpg\n",
      "│ ├─PDD00655.jpg\n",
      "│ ├─PDD00656.jpg\n",
      "│ ├─PDD00657.jpg\n",
      "│ ├─PDD00658.jpg\n",
      "│ ├─PDD00659.jpg\n",
      "│ ├─PDD00660.jpg\n",
      "│ └─PDD00661.jpg\n",
      "├─bacterial_panicle_blight/\n",
      "│ ├─PDD01154.jpg\n",
      "│ ├─PDD01155.jpg\n",
      "│ ├─PDD01156.jpg\n",
      "│ ├─PDD01157.jpg\n",
      "│ ├─PDD01158.jpg\n",
      "│ ├─PDD01159.jpg\n",
      "│ ├─PDD01160.jpg\n",
      "│ ├─PDD01161.jpg\n",
      "│ ├─PDD01162.jpg\n",
      "│ ├─PDD01163.jpg\n",
      "│ ├─PDD01164.jpg\n",
      "│ ├─PDD01165.jpg\n",
      "│ └─PDD01166.jpg\n",
      "├─black_stem_borer/\n",
      "│ ├─PDD01604.jpg\n",
      "│ ├─PDD01605.jpg\n",
      "│ ├─PDD01606.jpg\n",
      "│ ├─PDD01607.jpg\n",
      "│ ├─PDD01608.jpg\n",
      "│ ├─PDD01609.jpg\n",
      "│ ├─PDD01610.jpg\n",
      "│ ├─PDD01611.jpg\n",
      "│ ├─PDD01612.jpg\n",
      "│ ├─PDD01613.jpg\n",
      "│ ├─PDD01614.jpg\n",
      "│ ├─PDD01615.jpg\n",
      "│ └─PDD01616.jpg\n",
      "├─blast/\n",
      "│ ├─PDD02110.jpg\n",
      "│ ├─PDD02111.jpg\n",
      "│ ├─PDD02112.jpg\n",
      "│ ├─PDD02113.jpg\n",
      "│ ├─PDD02114.jpg\n",
      "│ ├─PDD02115.jpg\n",
      "│ ├─PDD02116.jpg\n",
      "│ ├─PDD02117.jpg\n",
      "│ ├─PDD02118.jpg\n",
      "│ ├─PDD02119.jpg\n",
      "│ ├─PDD02120.jpg\n",
      "│ ├─PDD02121.jpg\n",
      "│ └─PDD02122.jpg\n",
      "├─brown_spot/\n",
      "│ ├─PDD04461.jpg\n",
      "│ ├─PDD04462.jpg\n",
      "│ ├─PDD04463.jpg\n",
      "│ ├─PDD04464.jpg\n",
      "│ ├─PDD04465.jpg\n",
      "│ ├─PDD04466.jpg\n",
      "│ ├─PDD04467.jpg\n",
      "│ ├─PDD04468.jpg\n",
      "│ ├─PDD04469.jpg\n",
      "│ ├─PDD04470.jpg\n",
      "│ ├─PDD04471.jpg\n",
      "│ ├─PDD04472.jpg\n",
      "│ └─PDD04473.jpg\n",
      "├─downy_mildew/\n",
      "│ ├─PDD05718.jpg\n",
      "│ ├─PDD05719.jpg\n",
      "│ ├─PDD05720.jpg\n",
      "│ ├─PDD05721.jpg\n",
      "│ ├─PDD05722.jpg\n",
      "│ ├─PDD05723.jpg\n",
      "│ ├─PDD05724.jpg\n",
      "│ ├─PDD05725.jpg\n",
      "│ ├─PDD05726.jpg\n",
      "│ ├─PDD05727.jpg\n",
      "│ ├─PDD05728.jpg\n",
      "│ ├─PDD05729.jpg\n",
      "│ └─PDD05730.jpg\n",
      "├─hispa/\n",
      "│ ├─PDD06586.jpg\n",
      "│ ├─PDD06587.jpg\n",
      "│ ├─PDD06588.jpg\n",
      "│ ├─PDD06589.jpg\n",
      "│ ├─PDD06590.jpg\n",
      "│ ├─PDD06591.jpg\n",
      "│ ├─PDD06592.jpg\n",
      "│ ├─PDD06593.jpg\n",
      "│ ├─PDD06594.jpg\n",
      "│ ├─PDD06595.jpg\n",
      "│ ├─PDD06596.jpg\n",
      "│ ├─PDD06597.jpg\n",
      "│ └─PDD06598.jpg\n",
      "├─leaf_roller/\n",
      "│ ├─PDD08737.jpg\n",
      "│ ├─PDD08738.jpg\n",
      "│ ├─PDD08739.jpg\n",
      "│ ├─PDD08740.jpg\n",
      "│ ├─PDD08741.jpg\n",
      "│ ├─PDD08742.jpg\n",
      "│ ├─PDD08743.jpg\n",
      "│ ├─PDD08744.jpg\n",
      "│ ├─PDD08745.jpg\n",
      "│ ├─PDD08746.jpg\n",
      "│ ├─PDD08747.jpg\n",
      "│ ├─PDD08748.jpg\n",
      "│ └─PDD08749.jpg\n",
      "├─metadata.csv\n",
      "├─normal/\n",
      "│ ├─PDD09832.jpg\n",
      "│ ├─PDD09833.jpg\n",
      "│ ├─PDD09834.jpg\n",
      "│ ├─PDD09835.jpg\n",
      "│ ├─PDD09836.jpg\n",
      "│ ├─PDD09837.jpg\n",
      "│ ├─PDD09838.jpg\n",
      "│ ├─PDD09839.jpg\n",
      "│ ├─PDD09840.jpg\n",
      "│ ├─PDD09841.jpg\n",
      "│ ├─PDD09842.jpg\n",
      "│ ├─PDD09843.jpg\n",
      "│ └─PDD09844.jpg\n",
      "├─tungro/\n",
      "│ ├─PDD12237.jpg\n",
      "│ ├─PDD12238.jpg\n",
      "│ ├─PDD12239.jpg\n",
      "│ ├─PDD12240.jpg\n",
      "│ ├─PDD12241.jpg\n",
      "│ ├─PDD12242.jpg\n",
      "│ ├─PDD12243.jpg\n",
      "│ ├─PDD12244.jpg\n",
      "│ ├─PDD12245.jpg\n",
      "│ ├─PDD12246.jpg\n",
      "│ ├─PDD12247.jpg\n",
      "│ ├─PDD12248.jpg\n",
      "│ └─PDD12249.jpg\n",
      "└─white_stem_borer/\n",
      "  ├─PDD14188.jpg\n",
      "  ├─PDD14189.jpg\n",
      "  ├─PDD14190.jpg\n",
      "  ├─PDD14191.jpg\n",
      "  ├─PDD14192.jpg\n",
      "  ├─PDD14193.jpg\n",
      "  ├─PDD14194.jpg\n",
      "  ├─PDD14195.jpg\n",
      "  ├─PDD14196.jpg\n",
      "  ├─PDD14197.jpg\n",
      "  ├─PDD14198.jpg\n",
      "  ├─PDD14199.jpg\n",
      "  └─PDD14200.jpg\n"
     ]
    }
   ],
   "source": [
    "#sd.seedir(final_dir, style='lines', itemlimit=13, depthlimit=2)\n",
    "sd.seedir(final_dir, style='lines', itemlimit=13, depthlimit=2)"
   ]
  },
  {
   "cell_type": "markdown",
   "metadata": {},
   "source": [
    "### descriptive stats"
   ]
  },
  {
   "cell_type": "code",
   "execution_count": 21,
   "metadata": {
    "ExecuteTime": {
     "end_time": "2022-11-27T14:14:31.401321Z",
     "start_time": "2022-11-27T14:14:30.995583Z"
    }
   },
   "outputs": [
    {
     "name": "stdout",
     "output_type": "stream",
     "text": [
      "45                10978\n",
      "KarnatakaPonni     1404\n",
      "Ponni               975\n",
      "AtchayaPonni        706\n",
      "Zonal               649\n",
      "AndraPonni          615\n",
      "Onthanel            585\n",
      "IR20                235\n",
      "Surya                42\n",
      "RR                   36\n",
      "Name: variety, dtype: int64\n"
     ]
    },
    {
     "data": {
      "text/plain": [
       "<AxesSubplot:>"
      ]
     },
     "execution_count": 21,
     "metadata": {},
     "output_type": "execute_result"
    },
    {
     "data": {
      "image/png": "[encoded data removed]",
      "text/plain": [
       "<Figure size 432x288 with 1 Axes>"
      ]
     },
     "metadata": {
      "needs_background": "light"
     },
     "output_type": "display_data"
    }
   ],
   "source": [
    "print(metadata.variety.value_counts())\n",
    "metadata.variety.value_counts().plot(kind='bar')"
   ]
  },
  {
   "cell_type": "code",
   "execution_count": 22,
   "metadata": {
    "ExecuteTime": {
     "end_time": "2022-11-27T14:14:31.950980Z",
     "start_time": "2022-11-27T14:14:31.406323Z"
    }
   },
   "outputs": [
    {
     "name": "stdout",
     "output_type": "stream",
     "text": [
      "70    4945\n",
      "60    2527\n",
      "50    1748\n",
      "65    1410\n",
      "75    1243\n",
      "55     907\n",
      "72     774\n",
      "45     756\n",
      "67     608\n",
      "68     390\n",
      "57     326\n",
      "80     276\n",
      "47     149\n",
      "77      61\n",
      "73      50\n",
      "66      48\n",
      "62       7\n",
      "Name: age, dtype: int64\n"
     ]
    },
    {
     "data": {
      "text/plain": [
       "<AxesSubplot:>"
      ]
     },
     "execution_count": 22,
     "metadata": {},
     "output_type": "execute_result"
    },
    {
     "data": {
      "image/png": "[encoded data removed]",
      "text/plain": [
       "<Figure size 432x288 with 1 Axes>"
      ]
     },
     "metadata": {
      "needs_background": "light"
     },
     "output_type": "display_data"
    }
   ],
   "source": [
    "print(metadata.age.value_counts())\n",
    "metadata.age.value_counts().plot(kind='bar')"
   ]
  },
  {
   "cell_type": "code",
   "execution_count": null,
   "metadata": {
    "ExecuteTime": {
     "end_time": "2022-11-27T13:54:17.705068Z",
     "start_time": "2022-11-27T13:54:17.462258Z"
    }
   },
   "outputs": [],
   "source": []
  },
  {
   "cell_type": "code",
   "execution_count": 23,
   "metadata": {
    "ExecuteTime": {
     "end_time": "2022-11-27T14:14:31.980960Z",
     "start_time": "2022-11-27T14:14:31.955978Z"
    }
   },
   "outputs": [
    {
     "data": {
      "text/plain": [
       "normal                      0.148228\n",
       "blast                       0.144900\n",
       "hispa                       0.132573\n",
       "tungro                      0.120247\n",
       "white_stem_borer            0.078459\n",
       "brown_spot                  0.077473\n",
       "leaf_roller                 0.067488\n",
       "downy_mildew                0.053498\n",
       "yellow_stem_borer           0.047149\n",
       "bacterial_leaf_blight       0.039938\n",
       "black_stem_borer            0.031186\n",
       "bacterial_leaf_streak       0.031125\n",
       "bacterial_panicle_blight    0.027735\n",
       "Name: label, dtype: float64"
      ]
     },
     "execution_count": 23,
     "metadata": {},
     "output_type": "execute_result"
    }
   ],
   "source": [
    "metadata['label'].value_counts() / metadata['label'].shape[0]"
   ]
  },
  {
   "cell_type": "code",
   "execution_count": 24,
   "metadata": {
    "ExecuteTime": {
     "end_time": "2022-11-27T14:14:32.043930Z",
     "start_time": "2022-11-27T14:14:32.014941Z"
    }
   },
   "outputs": [
    {
     "data": {
      "text/plain": [
       "normal                      0.148228\n",
       "blast                       0.144915\n",
       "hispa                       0.132512\n",
       "tungro                      0.120262\n",
       "white_stem_borer            0.078505\n",
       "brown_spot                  0.077350\n",
       "leaf_roller                 0.067488\n",
       "downy_mildew                0.053467\n",
       "yellow_stem_borer           0.047227\n",
       "bacterial_leaf_blight       0.039908\n",
       "bacterial_leaf_streak       0.031202\n",
       "black_stem_borer            0.031202\n",
       "bacterial_panicle_blight    0.027735\n",
       "Name: label, dtype: float64"
      ]
     },
     "execution_count": 24,
     "metadata": {},
     "output_type": "execute_result"
    }
   ],
   "source": [
    "train['label'].value_counts() / train['label'].shape[0]\n",
    "#test['label'].value_counts() / train['label'].shape[0]"
   ]
  },
  {
   "cell_type": "code",
   "execution_count": 25,
   "metadata": {
    "ExecuteTime": {
     "end_time": "2022-11-27T14:14:32.059908Z",
     "start_time": "2022-11-27T14:14:32.049920Z"
    }
   },
   "outputs": [],
   "source": [
    "# ## https://stackoverflow.com/questions/53997862/pandas-groupby-two-columns-and-plot\n",
    "# train.groupby(['label', 'variety'])['image_id'].count().plot(kind='bar', figsize=(16,6))"
   ]
  },
  {
   "cell_type": "code",
   "execution_count": 26,
   "metadata": {
    "ExecuteTime": {
     "end_time": "2022-11-27T14:14:32.091896Z",
     "start_time": "2022-11-27T14:14:32.066916Z"
    }
   },
   "outputs": [],
   "source": [
    "# cols = ['label', 'variety']\n",
    "# #train[['label', 'variety', 'age']].groupby(cols).count().plot.bar()\n",
    "# train.groupby(cols).count().unstack('variety').plot.bar()\n",
    "# #.plot(kind='bar', figsize=(16,6))"
   ]
  },
  {
   "cell_type": "code",
   "execution_count": 27,
   "metadata": {
    "ExecuteTime": {
     "end_time": "2022-11-27T14:14:32.123870Z",
     "start_time": "2022-11-27T14:14:32.096888Z"
    }
   },
   "outputs": [],
   "source": [
    "#pd.crosstab(train['label'],train['variety']).plot(kind='barh', figsize=(8,12))"
   ]
  }
 ],
 "metadata": {
  "kernelspec": {
   "display_name": "Python 3",
   "language": "python",
   "name": "python3"
  },
  "language_info": {
   "codemirror_mode": {
    "name": "ipython",
    "version": 3
   },
   "file_extension": ".py",
   "mimetype": "text/x-python",
   "name": "python",
   "nbconvert_exporter": "python",
   "pygments_lexer": "ipython3",
   "version": "3.7.4"
  }
 },
 "nbformat": 4,
 "nbformat_minor": 2
}
